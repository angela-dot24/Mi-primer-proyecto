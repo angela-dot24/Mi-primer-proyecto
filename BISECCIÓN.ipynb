{
 "cells": [
  {
   "cell_type": "markdown",
   "metadata": {},
   "source": [
    "Método de Búsqueda Binaria (o método de Bisección)"
   ]
  },
  {
   "cell_type": "markdown",
   "metadata": {},
   "source": [
    "$$\n",
    "f(x) = x^2 - 20\n",
    "$$"
   ]
  },
  {
   "cell_type": "markdown",
   "metadata": {},
   "source": [
    "Para efectos de esta tarea, la raíz se busca en el intervalo de [4,5]"
   ]
  },
  {
   "cell_type": "code",
   "execution_count": 3,
   "metadata": {},
   "outputs": [],
   "source": [
    "#Primero, se define la función BISECCIÓN que usa como datos dos valores flotantes Xa y Xb (límite inferior y superior, respectivamente)\n",
    "## Se sugiere usar los valores Xa=4 y Xb=5\n",
    "def BISECCION (Xa:float,Xb:float):\n",
    "        #Se calculan el punto medio de los valores propuestos de X y se guarda como Xr.\n",
    "        Xr=(Xa+Xb)/2\n",
    "        #Posteriormente, se evalúa la función en Xa, Xb y Xr, obteniendo los resultados fa, fb y fr, para f(a), f(b) y f(r), respectivamente.\n",
    "        fa=Xa**2-20\n",
    "        fb=Xb**2-20\n",
    "        fr=Xr**2-20\n",
    "        #Se calcular el error absoluto porcentual, mediante la siguiente expresión, el cual se espera que vaya convergiendo a 0.\n",
    "        E=abs((Xa-Xb)/Xa)*100\n",
    "        #Para cada iteración se pide que nos imprima un informe con los valores correspondientes de X, el producto de f(a)*f(r) y el error correspondiente.\n",
    "        #Esta información sirve como retroalimentación de cómo va convergiendo el método y se visualiza la aplicación del criterio para ir reemplazando el intervalo.\n",
    "        print(\"LI:\",Xa, \"LS:\",Xb, \"Punto Medio:\", Xr, \"f(a)*f(r):\", fa*fr,\"y el error es:\", E,\"%, ¡Seguimos!\")\n",
    "        #Se establecen las condiciones para el ajuste de los límites del intervalo.\n",
    "        if fa*fr>0:\n",
    "            Xa=Xr\n",
    "        if fa*fr<0:\n",
    "            Xb=Xr\n",
    "        #Se considera la posibilidad de que uno de los valores de f(x) sea 0 y se usa como mecanismo para detener el algoritmo.\n",
    "        if fa*fr==0:\n",
    "            print(\"La raiz aproximada de la función, es:\", Xr, \"con un error porcentual de:\", E,\"%\")\n",
    "        #Se define un error de 0.0001% como requisito para detener el algoritmo. \n",
    "        #Mientras no se cumpla, sigue iterando la función BISECCIÓN.\n",
    "        if E>=0.0001:\n",
    "            BISECCION(Xa,Xb)\n",
    "        #Una vez que se cumple con el error permitido, terminamos y nos dice cuál es la raíz de la función.\n",
    "        if E<0.0001:\n",
    "            print(\"¡POR FIN! La raiz aproximada de la función, es:\", Xr, \"con un error porcentual de:\", E,\"%\") \n",
    "    \n",
    "\n",
    "\n",
    "\n",
    "\n"
   ]
  },
  {
   "cell_type": "code",
   "execution_count": 4,
   "metadata": {},
   "outputs": [
    {
     "name": "stdout",
     "output_type": "stream",
     "text": [
      "LI: 4 LS: 5 Punto Medio: 4.5 f(a)*f(r): -1.0 y el error es: 25.0 %, ¡Seguimos!\n",
      "LI: 4 LS: 4.5 Punto Medio: 4.25 f(a)*f(r): 7.75 y el error es: 12.5 %, ¡Seguimos!\n",
      "LI: 4.25 LS: 4.5 Punto Medio: 4.375 f(a)*f(r): 1.6650390625 y el error es: 5.88235294117647 %, ¡Seguimos!\n",
      "LI: 4.375 LS: 4.5 Punto Medio: 4.4375 f(a)*f(r): 0.26519775390625 y el error es: 2.857142857142857 %, ¡Seguimos!\n",
      "LI: 4.4375 LS: 4.5 Punto Medio: 4.46875 f(a)*f(r): 0.009342193603515625 y el error es: 1.4084507042253522 %, ¡Seguimos!\n",
      "LI: 4.46875 LS: 4.5 Punto Medio: 4.484375 f(a)*f(r): -0.0033185482025146484 y el error es: 0.6993006993006993 %, ¡Seguimos!\n",
      "LI: 4.46875 LS: 4.484375 Punto Medio: 4.4765625 f(a)*f(r): -0.001199185848236084 y el error es: 0.34965034965034963 %, ¡Seguimos!\n",
      "LI: 4.46875 LS: 4.4765625 Punto Medio: 4.47265625 f(a)*f(r): -0.0001408904790878296 y el error es: 0.17482517482517482 %, ¡Seguimos!\n",
      "LI: 4.46875 LS: 4.47265625 Punto Medio: 4.470703125 f(a)*f(r): 0.00038791075348854065 y el error es: 0.08741258741258741 %, ¡Seguimos!\n",
      "LI: 4.470703125 LS: 4.47265625 Punto Medio: 4.4716796875 f(a)*f(r): 5.228925510891713e-05 y el error es: 0.043687199650502405 %, ¡Seguimos!\n",
      "LI: 4.4716796875 LS: 4.47265625 Punto Medio: 4.47216796875 f(a)*f(r): -1.1684912806231296e-06 y el error es: 0.02183882943874208 %, ¡Seguimos!\n",
      "LI: 4.4716796875 LS: 4.47216796875 Punto Medio: 4.471923828125 f(a)*f(r): 7.742349282580108e-06 y el error es: 0.01091941471937104 %, ¡Seguimos!\n",
      "LI: 4.471923828125 LS: 4.47216796875 Punto Medio: 4.4720458984375 f(a)*f(r): 1.5282217313838942e-06 y el error es: 0.005459409291914614 %, ¡Seguimos!\n",
      "LI: 4.4720458984375 LS: 4.47216796875 Punto Medio: 4.47210693359375 f(a)*f(r): 2.0908265924157732e-07 y el error es: 0.002729630135116692 %, ¡Seguimos!\n",
      "LI: 4.47210693359375 LS: 4.47216796875 Punto Medio: 4.472137451171875 f(a)*f(r): -3.4736711805594123e-09 y el error es: 0.0013647964406108828 %, ¡Seguimos!\n",
      "LI: 4.47210693359375 LS: 4.472137451171875 Punto Medio: 4.4721221923828125 f(a)*f(r): 3.1952686074289416e-08 y el error es: 0.0006823982203054414 %, ¡Seguimos!\n",
      "LI: 4.4721221923828125 LS: 4.472137451171875 Punto Medio: 4.472129821777344 f(a)*f(r): 6.752719953099042e-09 y el error es: 0.0003411979459883652 %, ¡Seguimos!\n",
      "LI: 4.472129821777344 LS: 4.472137451171875 Punto Medio: 4.472133636474609 f(a)*f(r): 1.1376012370415369e-09 y el error es: 0.00017059868195458324 %, ¡Seguimos!\n",
      "LI: 4.472133636474609 LS: 4.472137451171875 Punto Medio: 4.472135543823242 f(a)*f(r): 7.626578511572746e-11 y el error es: 8.529926821757796e-05 %, ¡Seguimos!\n",
      "¡POR FIN! La raiz aproximada de la función, es: 4.472135543823242 con un error porcentual de: 8.529926821757796e-05 %\n"
     ]
    }
   ],
   "source": [
    "BISECCION(4,5)"
   ]
  }
 ],
 "metadata": {
  "kernelspec": {
   "display_name": "my_env",
   "language": "python",
   "name": "python3"
  },
  "language_info": {
   "codemirror_mode": {
    "name": "ipython",
    "version": 3
   },
   "file_extension": ".py",
   "mimetype": "text/x-python",
   "name": "python",
   "nbconvert_exporter": "python",
   "pygments_lexer": "ipython3",
   "version": "3.12.9"
  }
 },
 "nbformat": 4,
 "nbformat_minor": 2
}
